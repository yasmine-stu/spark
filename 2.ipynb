{
 "cells": [
  {
   "cell_type": "code",
   "execution_count": 1,
   "metadata": {},
   "outputs": [
    {
     "name": "stdout",
     "output_type": "stream",
     "text": [
      "Collecting opencv-contrib-python\n",
      "  Using cached opencv_contrib_python-4.5.5.64-cp36-abi3-win_amd64.whl (42.2 MB)\n",
      "Note: you may need to restart the kernel to use updated packages.\n",
      "Requirement already satisfied: numpy>=1.17.3 in c:\\users\\21694\\anaconda3\\lib\\site-packages (from opencv-contrib-python) (1.20.3)\n",
      "Installing collected packages: opencv-contrib-python\n",
      "Successfully installed opencv-contrib-python-4.5.5.64\n"
     ]
    }
   ],
   "source": [
    "pip install opencv-contrib-python"
   ]
  },
  {
   "cell_type": "code",
   "execution_count": 2,
   "metadata": {},
   "outputs": [
    {
     "name": "stdout",
     "output_type": "stream",
     "text": [
      "['person', 'bicycle', 'car', 'motorbike', 'aeroplane', 'bus', 'train', 'truck', 'boat', 'traffic light', 'fire hydrant', 'stop sign', 'parking meter', 'bench', 'bird', 'cat', 'dog', 'horse', 'sheep', 'cow', 'elephant', 'bear', 'zebra', 'giraffe', 'backpack', 'umbrella', 'handbag', 'tie', 'suitcase', 'frisbee', 'skis', 'snowboard', 'sports ball', 'kite', 'baseball bat', 'baseball glove', 'skateboard', 'surfboard', 'tennis racket', 'bottle', 'wine glass', 'cup', 'fork', 'knife', 'spoon', 'bowl', 'banana', 'apple', 'sandwich', 'orange', 'broccoli', 'carrot', 'hot dog', 'pizza', 'donut', 'cake', 'chair', 'sofa', 'pottedplant', 'bed', 'diningtable', 'toilet', 'tvmonitor', 'laptop', 'mouse', 'remote', 'keyboard', 'cell phone', 'microwave', 'oven', 'toaster', 'sink', 'refrigerator', 'book', 'clock', 'vase', 'scissors', 'teddy bear', 'hair drier', 'toothbrush']\n"
     ]
    }
   ],
   "source": [
    "import cv2\n",
    "\n",
    "# Opencv DNN\n",
    "net = cv2.dnn.readNet(\"dnn_model/yolov4-tiny.weights\", \"dnn_model/yolov4-tiny.cfg\")\n",
    "model = cv2.dnn_DetectionModel(net)\n",
    "#resize the image \n",
    "model.setInputParams(size=(320,320), scale=1/255 ) \n",
    "#scale : beacuse in openCv the pixels go from 0->255\n",
    "#while in a deep learning neural network the value go from 0->1\n",
    "#so we nedd to scale them inorder to be processed by the neural network\n",
    "\n",
    "#load the classes \n",
    "classes=[]\n",
    "with open(\"dnn_model/classes.txt\" , \"r\") as file:\n",
    "     #remove space from the begging and the end\n",
    "    classes=[class_name.strip() for class_name in file.readlines()]\n",
    "    print(classes)"
   ]
  },
  {
   "cell_type": "code",
   "execution_count": 4,
   "metadata": {},
   "outputs": [],
   "source": [
    "cap=cv2.VideoCapture(0)\n",
    "while True : \n",
    "    ret,frame=cap.read()\n",
    "    #object detection\n",
    "    (class_ides , score , boxes)=model.detect(frame)\n",
    "    #to schow them in real time\n",
    "    for class_id, score , box in zip(class_ides , score , boxes):\n",
    "        (x,y,w,h)=box\n",
    "        class_name=classes[class_id]\n",
    "        #to specify the class of the detected object\n",
    "        cv2.putText(frame, class_name, (x,y-10), cv2.FONT_HERSHEY_PLAIN , 2 , (200,0,50),2)\n",
    "        cv2.rectangle(frame,(x,y),(x+w,y+h), (200,0,50))\n",
    "                                            #color of the rectangle\n",
    "    cv2.imshow(\"frame\", frame)\n",
    "    \n",
    "    if cv2.waitKey(1) & 0xFF == ord('q'):\n",
    "        break\n",
    "# When everything done, release the capture\n",
    "cap.release()\n",
    "cv2.destroyAllWindows()"
   ]
  },
  {
   "cell_type": "code",
   "execution_count": null,
   "metadata": {},
   "outputs": [],
   "source": []
  }
 ],
 "metadata": {
  "interpreter": {
   "hash": "a1d4527b5fde3629247c99ae15897d99036621fcb4015349dd9262a18582db44"
  },
  "kernelspec": {
   "display_name": "Python 3.9.7 ('base')",
   "language": "python",
   "name": "python3"
  },
  "language_info": {
   "codemirror_mode": {
    "name": "ipython",
    "version": 3
   },
   "file_extension": ".py",
   "mimetype": "text/x-python",
   "name": "python",
   "nbconvert_exporter": "python",
   "pygments_lexer": "ipython3",
   "version": "3.9.7"
  },
  "orig_nbformat": 4
 },
 "nbformat": 4,
 "nbformat_minor": 2
}
